{
 "cells": [
  {
   "cell_type": "code",
   "execution_count": 1,
   "id": "f72c666a-529d-42a9-b104-73c9c6ae041d",
   "metadata": {},
   "outputs": [],
   "source": [
    "import sys\n",
    "import os\n",
    "import torch\n",
    "import torch.nn as nn\n",
    "from torch.utils.data import Dataset, DataLoader, WeightedRandomSampler\n",
    "from torchvision.io import read_image\n",
    "import matplotlib.pyplot as plt\n",
    "import torchvision.transforms.functional as F\n",
    "from torch.optim import Adam\n",
    "import tqdm\n",
    "import torch.nn as nn\n",
    "from torch.utils.data import Dataset, DataLoader\n",
    "from torchvision.io import read_image\n",
    "import matplotlib.pyplot as plt\n",
    "import torchvision.transforms.functional as F\n",
    "from torch.optim import Adam\n",
    "import torcheval.metrics as metrics\n",
    "import json\n",
    "import argparse\n",
    "import numpy as np"
   ]
  },
  {
   "cell_type": "code",
   "execution_count": 2,
   "id": "3f0b6590-adb6-4aec-8d7f-2ed91d60b03a",
   "metadata": {},
   "outputs": [],
   "source": [
    "args = {\n",
    "    'modelfile':'wikiart.pth',\n",
    "    'trainingdir':'/home/guserbto@GU.GU.SE/wikiart/train',\n",
    "    'testingdir': '/home/guserbto@GU.GU.SE/wikiart/test',\n",
    "    'device': 'cuda:2',\n",
    "    'epochs':10,\n",
    "    'batch_size':32,\n",
    "    \n",
    "}\n",
    "\n",
    "modelfile = args['modelfile']\n",
    "trainingdir = args['trainingdir']\n",
    "testingdir = args['testingdir']\n",
    "device = args['device']\n",
    "epochs = args['epochs']\n",
    "batch_size = args['batch_size']"
   ]
  },
  {
   "cell_type": "code",
   "execution_count": 3,
   "id": "e9128419-7a9f-4808-b12b-22257dec030b",
   "metadata": {},
   "outputs": [],
   "source": [
    "class WikiArtImage:\n",
    "    def __init__(self, imgdir, label, filename):\n",
    "        self.imgdir = imgdir\n",
    "        self.label = label\n",
    "        self.filename = filename\n",
    "        self.image = None\n",
    "        self.loaded = False\n",
    "\n",
    "    def get(self):\n",
    "        if not self.loaded:\n",
    "            self.image = read_image(os.path.join(self.imgdir, self.label, self.filename)).float()\n",
    "            self.loaded = True\n",
    "\n",
    "        return self.image"
   ]
  },
  {
   "cell_type": "code",
   "execution_count": 4,
   "id": "238db86d-39f5-482a-9fa9-bf7f5f87165f",
   "metadata": {},
   "outputs": [],
   "source": [
    "class WikiArtDataset(Dataset):\n",
    "    def __init__(self, imgdir, device=\"cpu\"):\n",
    "        walking = os.walk(imgdir)\n",
    "        filedict = {}\n",
    "        indices = []\n",
    "        classes = set()\n",
    "        print(\"Gathering files for {}\".format(imgdir))\n",
    "        for item in walking:\n",
    "            sys.stdout.write('.')\n",
    "            arttype = os.path.basename(item[0])\n",
    "            artfiles = item[2]\n",
    "            for art in artfiles:\n",
    "                filedict[art] = WikiArtImage(imgdir, arttype, art)\n",
    "                indices.append(art)\n",
    "                classes.add(arttype)\n",
    "        print(\"...finished\")\n",
    "        self.filedict = filedict\n",
    "        self.imgdir = imgdir\n",
    "        self.indices = indices\n",
    "        self.classes = list(classes)\n",
    "        self.device = device\n",
    "        \n",
    "    def __len__(self):\n",
    "        return len(self.filedict)\n",
    "\n",
    "    def __getitem__(self, idx):\n",
    "        imgname = self.indices[idx]\n",
    "        imgobj = self.filedict[imgname]\n",
    "        ilabel = self.classes.index(imgobj.label)\n",
    "        image = imgobj.get().to(self.device)\n",
    "\n",
    "        return image, ilabel"
   ]
  },
  {
   "cell_type": "code",
   "execution_count": 5,
   "id": "3881dbfe-f09d-4c70-bac9-daa7b32ae0af",
   "metadata": {},
   "outputs": [],
   "source": [
    "class WikiArtModel(nn.Module):\n",
    "    def __init__(self, num_classes=27):\n",
    "        super().__init__()\n",
    "\n",
    "        self.conv2d = nn.Conv2d(3, 32, (4, 4), padding=2)\n",
    "        self.maxpool2d = nn.MaxPool2d((2, 2), padding=0)\n",
    "        self.flatten = nn.Flatten()\n",
    "        self.batchnorm1d = nn.BatchNorm1d(32 * 208 * 208)  # True output shape after flattening\n",
    "        self.linear1 = nn.Linear(32 * 208 * 208, 300)\n",
    "        self.dropout = nn.Dropout(0.3)\n",
    "        self.relu = nn.ReLU()\n",
    "        self.linear2 = nn.Linear(300, num_classes)\n",
    "        self.softmax = nn.LogSoftmax(dim=1)\n",
    "\n",
    "    def forward(self, image):\n",
    "        output = self.conv2d(image)\n",
    "        #print(\"After conv2d:\", output.size())  # (batch_size, 32, H_out, W_out)\n",
    "        output = self.maxpool2d(output)\n",
    "        #print(\"After maxpool2d:\", output.size())  # (batch_size, 32, H_out/2, W_out/2)\n",
    "        output = self.flatten(output)\n",
    "        #print(\"After flatten:\", output.size())  # (batch_size, 32 * H_out/2 * W_out/2)\n",
    "        output = self.batchnorm1d(output)\n",
    "        #print(\"After batchnorm1d:\", output.size())  # (batch_size, 32 * H_out/2 * W_out/2)\n",
    "        output = self.linear1(output)\n",
    "        output = self.dropout(output)\n",
    "        output = self.relu(output)\n",
    "        output = self.linear2(output)\n",
    "        return self.softmax(output)"
   ]
  },
  {
   "cell_type": "code",
   "execution_count": 6,
   "id": "bf09eec1-9dae-4b87-9fdd-549845166131",
   "metadata": {},
   "outputs": [],
   "source": [
    "def calculate_weights(dataset, num_classes):\n",
    "    class_counts = np.zeros(num_classes)\n",
    "    for idx in range(len(dataset)):\n",
    "        _, label = dataset[idx]\n",
    "        class_counts[label] += 1\n",
    "\n",
    "    weights = 1. / class_counts\n",
    "    sample_weights = np.zeros(len(dataset))\n",
    "    for idx in range(len(dataset)):\n",
    "        _, label = dataset[idx]\n",
    "        sample_weights[idx] = weights[label]\n",
    "\n",
    "    return sample_weights"
   ]
  },
  {
   "cell_type": "code",
   "execution_count": 7,
   "id": "8ad816a3-28f0-4259-b4f2-772ab6fcb2d0",
   "metadata": {},
   "outputs": [
    {
     "name": "stdout",
     "output_type": "stream",
     "text": [
      "Running...\n",
      "Running...\n",
      "Gathering files for /home/guserbto@GU.GU.SE/wikiart/train\n",
      "...............................finished\n"
     ]
    }
   ],
   "source": [
    "# TRAIN\n",
    "\n",
    "print(\"Running...\")\n",
    "\n",
    "\n",
    "#traindataset = WikiArtDataset(trainingdir, device)\n",
    "#testingdataset = WikiArtDataset(testingdir, device)\n",
    "\n",
    "#print(traindataset.imgdir)\n",
    "\n",
    "#the_image, the_label = traindataset[5]\n",
    "#print(the_image, the_image.size())\n",
    "\n",
    "print(\"Running...\")\n",
    "\n",
    "traindataset = WikiArtDataset(trainingdir, device)\n",
    "num_classes = len(traindataset.classes)\n",
    "\n",
    "def train(epochs=3, batch_size=32, modelfile=None, device=\"cpu\"):\n",
    "    # Calculate sample weights and create a sampler\n",
    "    num_classes = len(traindataset.classes)\n",
    "    sample_weights = calculate_weights(traindataset, num_classes)\n",
    "    sampler = WeightedRandomSampler(weights=sample_weights, num_samples=len(sample_weights), replacement=True)\n",
    "    \n",
    "    # Create DataLoader with the sampler\n",
    "    trainloader = DataLoader(traindataset, batch_size=batch_size, sampler=sampler)\n",
    "    \n",
    "    model = WikiArtModel(num_classes=num_classes).to(device)\n",
    "    optimizer = Adam(model.parameters(), lr=0.01)\n",
    "    criterion = nn.NLLLoss().to(device)\n",
    "\n",
    "    for epoch in range(epochs):\n",
    "        print(f\"Starting epoch {epoch}\")\n",
    "        accumulate_loss = 0\n",
    "        for batch_id, batch in enumerate(tqdm.tqdm(trainloader)):\n",
    "            X, y = batch\n",
    "            y = y.to(device)\n",
    "            optimizer.zero_grad()\n",
    "            output = model(X)\n",
    "            loss = criterion(output, y)\n",
    "            loss.backward()\n",
    "            accumulate_loss += loss.item()\n",
    "            optimizer.step()\n",
    "\n",
    "        print(f\"In epoch {epoch}, loss = {accumulate_loss}\")\n",
    "\n",
    "    if modelfile:\n",
    "        torch.save(model.state_dict(), modelfile)\n",
    "\n",
    "    return model"
   ]
  },
  {
   "cell_type": "code",
   "execution_count": 8,
   "id": "657db5b8-e78a-4235-90dc-20bebc36290f",
   "metadata": {},
   "outputs": [
    {
     "name": "stdout",
     "output_type": "stream",
     "text": [
      "Starting epoch 0\n"
     ]
    },
    {
     "name": "stderr",
     "output_type": "stream",
     "text": [
      "100%|████████████████████████████████████████████████████████████████████████████████████████████████████████████████████████████████████████████████████████████████████████████████████████████████████████████████████████████████████████| 418/418 [01:29<00:00,  4.65it/s]\n"
     ]
    },
    {
     "name": "stdout",
     "output_type": "stream",
     "text": [
      "In epoch 0, loss = 357375.4498960972\n",
      "Starting epoch 1\n"
     ]
    },
    {
     "name": "stderr",
     "output_type": "stream",
     "text": [
      "100%|████████████████████████████████████████████████████████████████████████████████████████████████████████████████████████████████████████████████████████████████████████████████████████████████████████████████████████████████████████| 418/418 [01:30<00:00,  4.64it/s]\n"
     ]
    },
    {
     "name": "stdout",
     "output_type": "stream",
     "text": [
      "In epoch 1, loss = 1495.6514103412628\n",
      "Starting epoch 2\n"
     ]
    },
    {
     "name": "stderr",
     "output_type": "stream",
     "text": [
      "100%|████████████████████████████████████████████████████████████████████████████████████████████████████████████████████████████████████████████████████████████████████████████████████████████████████████████████████████████████████████| 418/418 [01:29<00:00,  4.68it/s]\n"
     ]
    },
    {
     "name": "stdout",
     "output_type": "stream",
     "text": [
      "In epoch 2, loss = 1374.8467764854431\n",
      "Starting epoch 3\n"
     ]
    },
    {
     "name": "stderr",
     "output_type": "stream",
     "text": [
      "100%|████████████████████████████████████████████████████████████████████████████████████████████████████████████████████████████████████████████████████████████████████████████████████████████████████████████████████████████████████████| 418/418 [01:28<00:00,  4.70it/s]\n"
     ]
    },
    {
     "name": "stdout",
     "output_type": "stream",
     "text": [
      "In epoch 3, loss = 1473.0325183868408\n",
      "Starting epoch 4\n"
     ]
    },
    {
     "name": "stderr",
     "output_type": "stream",
     "text": [
      "100%|████████████████████████████████████████████████████████████████████████████████████████████████████████████████████████████████████████████████████████████████████████████████████████████████████████████████████████████████████████| 418/418 [01:30<00:00,  4.62it/s]\n"
     ]
    },
    {
     "name": "stdout",
     "output_type": "stream",
     "text": [
      "In epoch 4, loss = 1991.1042380332947\n",
      "Starting epoch 5\n"
     ]
    },
    {
     "name": "stderr",
     "output_type": "stream",
     "text": [
      "100%|████████████████████████████████████████████████████████████████████████████████████████████████████████████████████████████████████████████████████████████████████████████████████████████████████████████████████████████████████████| 418/418 [01:33<00:00,  4.46it/s]\n"
     ]
    },
    {
     "name": "stdout",
     "output_type": "stream",
     "text": [
      "In epoch 5, loss = 1378.4084167480469\n",
      "Starting epoch 6\n"
     ]
    },
    {
     "name": "stderr",
     "output_type": "stream",
     "text": [
      "100%|████████████████████████████████████████████████████████████████████████████████████████████████████████████████████████████████████████████████████████████████████████████████████████████████████████████████████████████████████████| 418/418 [01:32<00:00,  4.51it/s]\n"
     ]
    },
    {
     "name": "stdout",
     "output_type": "stream",
     "text": [
      "In epoch 6, loss = 1378.828803062439\n",
      "Starting epoch 7\n"
     ]
    },
    {
     "name": "stderr",
     "output_type": "stream",
     "text": [
      "100%|████████████████████████████████████████████████████████████████████████████████████████████████████████████████████████████████████████████████████████████████████████████████████████████████████████████████████████████████████████| 418/418 [01:31<00:00,  4.55it/s]\n"
     ]
    },
    {
     "name": "stdout",
     "output_type": "stream",
     "text": [
      "In epoch 7, loss = 1378.666454076767\n",
      "Starting epoch 8\n"
     ]
    },
    {
     "name": "stderr",
     "output_type": "stream",
     "text": [
      "100%|████████████████████████████████████████████████████████████████████████████████████████████████████████████████████████████████████████████████████████████████████████████████████████████████████████████████████████████████████████| 418/418 [01:31<00:00,  4.57it/s]\n"
     ]
    },
    {
     "name": "stdout",
     "output_type": "stream",
     "text": [
      "In epoch 8, loss = 1378.698842048645\n",
      "Starting epoch 9\n"
     ]
    },
    {
     "name": "stderr",
     "output_type": "stream",
     "text": [
      "100%|████████████████████████████████████████████████████████████████████████████████████████████████████████████████████████████████████████████████████████████████████████████████████████████████████████████████████████████████████████| 418/418 [01:29<00:00,  4.69it/s]\n"
     ]
    },
    {
     "name": "stdout",
     "output_type": "stream",
     "text": [
      "In epoch 9, loss = 1378.917324066162\n"
     ]
    }
   ],
   "source": [
    "model = train(args[\"epochs\"], args[\"batch_size\"], modelfile=args[\"modelfile\"], device=device)"
   ]
  },
  {
   "cell_type": "code",
   "execution_count": 9,
   "id": "675aa0a5-8f0f-45f5-8ff8-d3a79be2f3e7",
   "metadata": {},
   "outputs": [
    {
     "name": "stdout",
     "output_type": "stream",
     "text": [
      "Running...\n",
      "Gathering files for /home/guserbto@GU.GU.SE/wikiart/test\n",
      "..............................finished\n"
     ]
    }
   ],
   "source": [
    "# TEST\n",
    "\n",
    "#parser = argparse.ArgumentParser()\n",
    "#parser.add_argument(\"-c\", \"--config\", help=\"configuration file\", default=\"config.json\")\n",
    "\n",
    "#args = parser.parse_args()\n",
    "\n",
    "#config = json.load(open(args.config))\n",
    "\n",
    "#testingdir = config[\"testingdir\"]\n",
    "#device = config[\"device\"]\n",
    "\n",
    "\n",
    "print(\"Running...\")\n",
    "\n",
    "#traindataset = WikiArtDataset(trainingdir, device)\n",
    "testingdataset = WikiArtDataset(testingdir, device)\n",
    "\n",
    "def test(modelfile=None, device=\"cpu\"):\n",
    "    loader = DataLoader(testingdataset, batch_size=1)\n",
    "\n",
    "    model = WikiArtModel()\n",
    "    model.load_state_dict(torch.load(modelfile, weights_only=True))\n",
    "    model = model.to(device)\n",
    "    model.eval()\n",
    "\n",
    "    predictions = []\n",
    "    truth = []\n",
    "    for batch_id, batch in enumerate(tqdm.tqdm(loader)):\n",
    "        X, y = batch\n",
    "        y = y.to(device)\n",
    "        output = model(X)\n",
    "        predictions.append(torch.argmax(output).unsqueeze(dim=0))\n",
    "        truth.append(y)\n",
    "\n",
    "    #print(\"predictions {}\".format(predictions))\n",
    "    #print(\"truth {}\".format(truth))\n",
    "    predictions = torch.concat(predictions)\n",
    "    truth = torch.concat(truth)\n",
    "    metric = metrics.MulticlassAccuracy()\n",
    "    metric.update(predictions, truth)\n",
    "    print(\"Accuracy: {}\".format(metric.compute()))\n",
    "    confusion = metrics.MulticlassConfusionMatrix(27)\n",
    "    confusion.update(predictions, truth)\n",
    "    print(\"Confusion Matrix\\n{}\".format(confusion.compute()))"
   ]
  },
  {
   "cell_type": "code",
   "execution_count": 10,
   "id": "c3ddd7c1-b991-4c0b-b62a-b0105947d566",
   "metadata": {},
   "outputs": [
    {
     "name": "stderr",
     "output_type": "stream",
     "text": [
      "100%|███████████████████████████████████████████████████████████████████████████████████████████████████████████████████████████████████████████████████████████████████████████████████████████████████████████████████████████████████████| 629/629 [00:03<00:00, 161.01it/s]\n"
     ]
    },
    {
     "name": "stdout",
     "output_type": "stream",
     "text": [
      "Accuracy: 0.014308426529169083\n",
      "Confusion Matrix\n",
      "tensor([[  0.,   0.,   0.,   0.,   0.,   0.,   0.,   0.,   0.,   0.,   0.,   0.,\n",
      "           0.,   0.,   0.,   0.,   0.,   0.,   0.,   0.,   0.,   0.,  23.,   0.,\n",
      "           0.,   0.,   0.],\n",
      "        [  0.,   0.,   0.,   0.,   0.,   0.,   0.,   0.,   0.,   0.,   0.,   0.,\n",
      "           0.,   0.,   0.,   0.,   0.,   0.,   0.,   0.,   0.,   0.,   6.,   0.,\n",
      "           0.,   0.,   0.],\n",
      "        [  0.,   0.,   0.,   0.,   0.,   0.,   0.,   0.,   0.,   0.,   0.,   0.,\n",
      "           0.,   0.,   0.,   0.,   0.,   0.,   0.,   0.,   0.,   0.,  45.,   0.,\n",
      "           0.,   0.,   0.],\n",
      "        [  0.,   0.,   0.,   0.,   0.,   0.,   0.,   0.,   0.,   0.,   0.,   0.,\n",
      "           0.,   0.,   0.,   0.,   0.,   0.,   0.,   0.,   0.,   0.,   9.,   0.,\n",
      "           0.,   0.,   0.],\n",
      "        [  0.,   0.,   0.,   0.,   0.,   0.,   0.,   0.,   0.,   0.,   0.,   0.,\n",
      "           0.,   0.,   0.,   0.,   0.,   0.,   0.,   0.,   0.,   0.,  82.,   0.,\n",
      "           0.,   0.,   0.],\n",
      "        [  0.,   0.,   0.,   0.,   0.,   0.,   0.,   0.,   0.,   0.,   0.,   0.,\n",
      "           0.,   0.,   0.,   0.,   0.,   0.,   0.,   0.,   0.,   0.,   1.,   0.,\n",
      "           0.,   0.,   0.],\n",
      "        [  0.,   0.,   0.,   0.,   0.,   0.,   0.,   0.,   0.,   0.,   0.,   0.,\n",
      "           0.,   0.,   0.,   0.,   0.,   0.,   0.,   0.,   0.,   0.,  52.,   0.,\n",
      "           0.,   0.,   0.],\n",
      "        [  0.,   0.,   0.,   0.,   0.,   0.,   0.,   0.,   0.,   0.,   0.,   0.,\n",
      "           0.,   0.,   0.,   0.,   0.,   0.,   0.,   0.,   0.,   0.,   6.,   0.,\n",
      "           0.,   0.,   0.],\n",
      "        [  0.,   0.,   0.,   0.,   0.,   0.,   0.,   0.,   0.,   0.,   0.,   0.,\n",
      "           0.,   0.,   0.,   0.,   0.,   0.,   0.,   0.,   0.,   0.,  51.,   0.,\n",
      "           0.,   0.,   0.],\n",
      "        [  0.,   0.,   0.,   0.,   0.,   0.,   0.,   0.,   0.,   0.,   0.,   0.,\n",
      "           0.,   0.,   0.,   0.,   0.,   0.,   0.,   0.,   0.,   0.,  15.,   0.,\n",
      "           0.,   0.,   0.],\n",
      "        [  0.,   0.,   0.,   0.,   0.,   0.,   0.,   0.,   0.,   0.,   0.,   0.,\n",
      "           0.,   0.,   0.,   0.,   0.,   0.,   0.,   0.,   0.,   0.,  32.,   0.,\n",
      "           0.,   0.,   0.],\n",
      "        [  0.,   0.,   0.,   0.,   0.,   0.,   0.,   0.,   0.,   0.,   0.,   0.,\n",
      "           0.,   0.,   0.,   0.,   0.,   0.,   0.,   0.,   0.,   0.,  17.,   0.,\n",
      "           0.,   0.,   0.],\n",
      "        [  0.,   0.,   0.,   0.,   0.,   0.,   0.,   0.,   0.,   0.,   0.,   0.,\n",
      "           0.,   0.,   0.,   0.,   0.,   0.,   0.,   0.,   0.,   0.,   8.,   0.,\n",
      "           0.,   0.,   0.],\n",
      "        [  0.,   0.,   0.,   0.,   0.,   0.,   0.,   0.,   0.,   0.,   0.,   0.,\n",
      "           0.,   0.,   0.,   0.,   0.,   0.,   0.,   0.,   0.,   0.,  10.,   0.,\n",
      "           0.,   0.,   0.],\n",
      "        [  0.,   0.,   0.,   0.,   0.,   0.,   0.,   0.,   0.,   0.,   0.,   0.,\n",
      "           0.,   0.,   0.,   0.,   0.,   0.,   0.,   0.,   0.,   0.,  12.,   0.,\n",
      "           0.,   0.,   0.],\n",
      "        [  0.,   0.,   0.,   0.,   0.,   0.,   0.,   0.,   0.,   0.,   0.,   0.,\n",
      "           0.,   0.,   0.,   0.,   0.,   0.,   0.,   0.,   0.,   0.,  34.,   0.,\n",
      "           0.,   0.,   0.],\n",
      "        [  0.,   0.,   0.,   0.,   0.,   0.,   0.,   0.,   0.,   0.,   0.,   0.,\n",
      "           0.,   0.,   0.,   0.,   0.,   0.,   0.,   0.,   0.,   0.,  51.,   0.,\n",
      "           0.,   0.,   0.],\n",
      "        [  0.,   0.,   0.,   0.,   0.,   0.,   0.,   0.,   0.,   0.,   0.,   0.,\n",
      "           0.,   0.,   0.,   0.,   0.,   0.,   0.,   0.,   0.,   0., 101.,   0.,\n",
      "           0.,   0.,   0.],\n",
      "        [  0.,   0.,   0.,   0.,   0.,   0.,   0.,   0.,   0.,   0.,   0.,   0.,\n",
      "           0.,   0.,   0.,   0.,   0.,   0.,   0.,   0.,   0.,   0.,  12.,   0.,\n",
      "           0.,   0.,   0.],\n",
      "        [  0.,   0.,   0.,   0.,   0.,   0.,   0.,   0.,   0.,   0.,   0.,   0.,\n",
      "           0.,   0.,   0.,   0.,   0.,   0.,   0.,   0.,   0.,   0.,  13.,   0.,\n",
      "           0.,   0.,   0.],\n",
      "        [  0.,   0.,   0.,   0.,   0.,   0.,   0.,   0.,   0.,   0.,   0.,   0.,\n",
      "           0.,   0.,   0.,   0.,   0.,   0.,   0.,   0.,   0.,   0.,  19.,   0.,\n",
      "           0.,   0.,   0.],\n",
      "        [  0.,   0.,   0.,   0.,   0.,   0.,   0.,   0.,   0.,   0.,   0.,   0.,\n",
      "           0.,   0.,   0.,   0.,   0.,   0.,   0.,   0.,   0.,   0.,  15.,   0.,\n",
      "           0.,   0.,   0.],\n",
      "        [  0.,   0.,   0.,   0.,   0.,   0.,   0.,   0.,   0.,   0.,   0.,   0.,\n",
      "           0.,   0.,   0.,   0.,   0.,   0.,   0.,   0.,   0.,   0.,   9.,   0.,\n",
      "           0.,   0.,   0.],\n",
      "        [  0.,   0.,   0.,   0.,   0.,   0.,   0.,   0.,   0.,   0.,   0.,   0.,\n",
      "           0.,   0.,   0.,   0.,   0.,   0.,   0.,   0.,   0.,   0.,   1.,   0.,\n",
      "           0.,   0.,   0.],\n",
      "        [  0.,   0.,   0.,   0.,   0.,   0.,   0.,   0.,   0.,   0.,   0.,   0.,\n",
      "           0.,   0.,   0.,   0.,   0.,   0.,   0.,   0.,   0.,   0.,   3.,   0.,\n",
      "           0.,   0.,   0.],\n",
      "        [  0.,   0.,   0.,   0.,   0.,   0.,   0.,   0.,   0.,   0.,   0.,   0.,\n",
      "           0.,   0.,   0.,   0.,   0.,   0.,   0.,   0.,   0.,   0.,   2.,   0.,\n",
      "           0.,   0.,   0.],\n",
      "        [  0.,   0.,   0.,   0.,   0.,   0.,   0.,   0.,   0.,   0.,   0.,   0.,\n",
      "           0.,   0.,   0.,   0.,   0.,   0.,   0.,   0.,   0.,   0.,   0.,   0.,\n",
      "           0.,   0.,   0.]])\n"
     ]
    }
   ],
   "source": [
    "test(modelfile=modelfile, device=device)"
   ]
  }
 ],
 "metadata": {
  "kernelspec": {
   "display_name": "Python 3 (ipykernel)",
   "language": "python",
   "name": "python3"
  },
  "language_info": {
   "codemirror_mode": {
    "name": "ipython",
    "version": 3
   },
   "file_extension": ".py",
   "mimetype": "text/x-python",
   "name": "python",
   "nbconvert_exporter": "python",
   "pygments_lexer": "ipython3",
   "version": "3.12.3"
  }
 },
 "nbformat": 4,
 "nbformat_minor": 5
}
