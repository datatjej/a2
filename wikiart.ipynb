{
 "cells": [
  {
   "cell_type": "code",
   "execution_count": 21,
   "id": "f72c666a-529d-42a9-b104-73c9c6ae041d",
   "metadata": {},
   "outputs": [],
   "source": [
    "import sys\n",
    "import os\n",
    "import torch\n",
    "import torch.nn as nn\n",
    "from torch.utils.data import Dataset, DataLoader\n",
    "from torchvision.io import read_image\n",
    "import matplotlib.pyplot as plt\n",
    "import torchvision.transforms.functional as F\n",
    "from torch.optim import Adam\n",
    "import tqdm\n",
    "import torch.nn as nn\n",
    "from torch.utils.data import Dataset, DataLoader\n",
    "from torchvision.io import read_image\n",
    "import matplotlib.pyplot as plt\n",
    "import torchvision.transforms.functional as F\n",
    "from torch.optim import Adam\n",
    "import torcheval.metrics as metrics\n",
    "import json\n",
    "import argparse"
   ]
  },
  {
   "cell_type": "code",
   "execution_count": null,
   "id": "3f0b6590-adb6-4aec-8d7f-2ed91d60b03a",
   "metadata": {},
   "outputs": [],
   "source": [
    "args = {\n",
    "    'modelfile':'wikiart.pth',\n",
    "    'trainingdir':'/home/guserbto@GU.GU.SE/wikiart/train',\n",
    "    'testingdir': '/home/guserbto@GU.GU.SE/wikiart/test',\n",
    "    'device': 'cuda:1',\n",
    "    'epochs':20,\n",
    "    'batch_size':32,\n",
    "    \n",
    "}\n",
    "\n",
    "modelfile = args['modelfile']\n",
    "trainingdir = args['trainingdir']\n",
    "testingdir = args['testingdir']\n",
    "device = args['device']\n",
    "epochs = args['epochs']\n",
    "batch_size = args['batch_size']"
   ]
  },
  {
   "cell_type": "code",
   "execution_count": 26,
   "id": "e9128419-7a9f-4808-b12b-22257dec030b",
   "metadata": {},
   "outputs": [],
   "source": [
    "class WikiArtImage:\n",
    "    def __init__(self, imgdir, label, filename):\n",
    "        self.imgdir = imgdir\n",
    "        self.label = label\n",
    "        self.filename = filename\n",
    "        self.image = None\n",
    "        self.loaded = False\n",
    "\n",
    "    def get(self):\n",
    "        if not self.loaded:\n",
    "            self.image = read_image(os.path.join(self.imgdir, self.label, self.filename)).float()\n",
    "            self.loaded = True\n",
    "\n",
    "        return self.image"
   ]
  },
  {
   "cell_type": "code",
   "execution_count": 40,
   "id": "238db86d-39f5-482a-9fa9-bf7f5f87165f",
   "metadata": {},
   "outputs": [],
   "source": [
    "class WikiArtDataset(Dataset):\n",
    "    def __init__(self, imgdir, device=\"cpu\"):\n",
    "        walking = os.walk(imgdir)\n",
    "        filedict = {}\n",
    "        indices = []\n",
    "        classes = set()\n",
    "        print(\"Gathering files for {}\".format(imgdir))\n",
    "        for item in walking:\n",
    "            sys.stdout.write('.')\n",
    "            arttype = os.path.basename(item[0])\n",
    "            artfiles = item[2]\n",
    "            for art in artfiles:\n",
    "                filedict[art] = WikiArtImage(imgdir, arttype, art)\n",
    "                indices.append(art)\n",
    "                classes.add(arttype)\n",
    "        print(\"...finished\")\n",
    "        self.filedict = filedict\n",
    "        self.imgdir = imgdir\n",
    "        self.indices = indices\n",
    "        self.classes = list(classes)\n",
    "        self.device = device\n",
    "        \n",
    "    def __len__(self):\n",
    "        return len(self.filedict)\n",
    "\n",
    "    def __getitem__(self, idx):\n",
    "        imgname = self.indices[idx]\n",
    "        imgobj = self.filedict[imgname]\n",
    "        ilabel = self.classes.index(imgobj.label)\n",
    "        image = imgobj.get().to(self.device)\n",
    "\n",
    "        return image, ilabel"
   ]
  },
  {
   "cell_type": "code",
   "execution_count": 28,
   "id": "3881dbfe-f09d-4c70-bac9-daa7b32ae0af",
   "metadata": {},
   "outputs": [],
   "source": [
    "class WikiArtModel(nn.Module):\n",
    "    def __init__(self, num_classes=27):\n",
    "        super().__init__()\n",
    "\n",
    "        self.conv2d = nn.Conv2d(3, 1, (4,4), padding=2)\n",
    "        self.maxpool2d = nn.MaxPool2d((4,4), padding=2)\n",
    "        self.flatten = nn.Flatten()\n",
    "        self.batchnorm1d = nn.BatchNorm1d(105*105)\n",
    "        self.linear1 = nn.Linear(105*105, 300)\n",
    "        self.dropout = nn.Dropout(0.01)\n",
    "        self.relu = nn.ReLU()\n",
    "        self.linear2 = nn.Linear(300, num_classes)\n",
    "        self.softmax = nn.LogSoftmax(dim=1)\n",
    "\n",
    "    def forward(self, image):\n",
    "        output = self.conv2d(image)\n",
    "        #print(\"convout {}\".format(output.size()))\n",
    "        output = self.maxpool2d(output)\n",
    "        #print(\"poolout {}\".format(output.size()))        \n",
    "        output = self.flatten(output)\n",
    "        output = self.batchnorm1d(output)\n",
    "        #print(\"poolout {}\".format(output.size()))        \n",
    "        output = self.linear1(output)\n",
    "        output = self.dropout(output)\n",
    "        output = self.relu(output)\n",
    "        output = self.linear2(output)\n",
    "        return self.softmax(output)"
   ]
  },
  {
   "cell_type": "code",
   "execution_count": 41,
   "id": "8ad816a3-28f0-4259-b4f2-772ab6fcb2d0",
   "metadata": {},
   "outputs": [
    {
     "name": "stdout",
     "output_type": "stream",
     "text": [
      "Running...\n",
      "Gathering files for /home/guserbto@GU.GU.SE/wikiart/train\n",
      "...............................finished\n",
      "/home/guserbto@GU.GU.SE/wikiart/train\n",
      "tensor([[[171., 156., 148.,  ..., 255., 255., 255.],\n",
      "         [138., 183., 233.,  ..., 255., 255., 255.],\n",
      "         [152., 136., 132.,  ..., 255., 255., 255.],\n",
      "         ...,\n",
      "         [164., 163., 160.,  ..., 160., 161., 161.],\n",
      "         [161., 159., 156.,  ..., 160., 164., 168.],\n",
      "         [160., 156., 152.,  ..., 153., 159., 167.]],\n",
      "\n",
      "        [[173., 157., 148.,  ..., 255., 255., 255.],\n",
      "         [140., 184., 233.,  ..., 255., 255., 255.],\n",
      "         [153., 137., 131.,  ..., 255., 255., 255.],\n",
      "         ...,\n",
      "         [177., 176., 173.,  ..., 180., 177., 174.],\n",
      "         [174., 172., 169.,  ..., 180., 180., 181.],\n",
      "         [173., 169., 165.,  ..., 173., 175., 180.]],\n",
      "\n",
      "        [[124., 113., 112.,  ..., 255., 255., 255.],\n",
      "         [ 93., 140., 199.,  ..., 255., 255., 255.],\n",
      "         [109.,  95., 100.,  ..., 255., 255., 255.],\n",
      "         ...,\n",
      "         [134., 133., 130.,  ..., 131., 132., 130.],\n",
      "         [131., 129., 126.,  ..., 131., 135., 137.],\n",
      "         [130., 126., 122.,  ..., 124., 130., 136.]]], device='cuda:1') torch.Size([3, 416, 416])\n"
     ]
    }
   ],
   "source": [
    "# TRAIN\n",
    "\n",
    "#parser = argparse.ArgumentParser()\n",
    "#parser.add_argument(\"-c\", \"--config\", help=\"configuration file\", default=\"config.json\")\n",
    "\n",
    "#args = parser.parse_args()\n",
    "\n",
    "#config = json.load(open(config))\n",
    "\n",
    "#trainingdir = config[\"trainingdir\"]\n",
    "#testingdir = config[\"testingdir\"]\n",
    "#device = config[\"device\"]\n",
    "\n",
    "print(\"Running...\")\n",
    "\n",
    "\n",
    "traindataset = WikiArtDataset(trainingdir, device)\n",
    "#testingdataset = WikiArtDataset(testingdir, device)\n",
    "\n",
    "print(traindataset.imgdir)\n",
    "\n",
    "the_image, the_label = traindataset[5]\n",
    "print(the_image, the_image.size())\n",
    "\n",
    "# the_showable_image = F.to_pil_image(the_image)\n",
    "# print(\"Label of img 5 is {}\".format(the_label))\n",
    "# the_showable_image.show()\n",
    "\n",
    "\n",
    "def train(epochs=3, batch_size=32, modelfile=None, device=\"cpu\"):\n",
    "    loader = DataLoader(traindataset, batch_size=batch_size, shuffle=True)\n",
    "\n",
    "    model = WikiArtModel().to(device)\n",
    "    optimizer = Adam(model.parameters(), lr=0.01)\n",
    "    criterion = nn.NLLLoss().to(device)\n",
    "    \n",
    "    for epoch in range(epochs):\n",
    "        print(\"Starting epoch {}\".format(epoch))\n",
    "        accumulate_loss = 0\n",
    "        for batch_id, batch in enumerate(tqdm.tqdm(loader)):\n",
    "            X, y = batch\n",
    "            y = y.to(device)\n",
    "            optimizer.zero_grad()\n",
    "            output = model(X)\n",
    "            loss = criterion(output, y)\n",
    "            loss.backward()\n",
    "            accumulate_loss += loss\n",
    "            optimizer.step()\n",
    "\n",
    "        print(\"In epoch {}, loss = {}\".format(epoch, accumulate_loss))\n",
    "\n",
    "    if modelfile:\n",
    "        torch.save(model.state_dict(), modelfile)\n",
    "\n",
    "    return model"
   ]
  },
  {
   "cell_type": "code",
   "execution_count": null,
   "id": "657db5b8-e78a-4235-90dc-20bebc36290f",
   "metadata": {},
   "outputs": [
    {
     "name": "stdout",
     "output_type": "stream",
     "text": [
      "Starting epoch 0\n"
     ]
    },
    {
     "name": "stderr",
     "output_type": "stream",
     "text": [
      "100%|████████████████████████████████████████████████████████████████████████████████████████████████████████████████████████████████████████████████████████████████████████████████████████████████████████████████████████████████████████| 418/418 [00:30<00:00, 13.49it/s]\n"
     ]
    },
    {
     "name": "stdout",
     "output_type": "stream",
     "text": [
      "In epoch 0, loss = 3886.69287109375\n",
      "Starting epoch 1\n"
     ]
    },
    {
     "name": "stderr",
     "output_type": "stream",
     "text": [
      "100%|████████████████████████████████████████████████████████████████████████████████████████████████████████████████████████████████████████████████████████████████████████████████████████████████████████████████████████████████████████| 418/418 [00:09<00:00, 42.92it/s]\n"
     ]
    },
    {
     "name": "stdout",
     "output_type": "stream",
     "text": [
      "In epoch 1, loss = 1133.0986328125\n",
      "Starting epoch 2\n"
     ]
    },
    {
     "name": "stderr",
     "output_type": "stream",
     "text": [
      "100%|████████████████████████████████████████████████████████████████████████████████████████████████████████████████████████████████████████████████████████████████████████████████████████████████████████████████████████████████████████| 418/418 [00:07<00:00, 53.40it/s]\n"
     ]
    },
    {
     "name": "stdout",
     "output_type": "stream",
     "text": [
      "In epoch 2, loss = 1151.4888916015625\n",
      "Starting epoch 3\n"
     ]
    },
    {
     "name": "stderr",
     "output_type": "stream",
     "text": [
      "100%|████████████████████████████████████████████████████████████████████████████████████████████████████████████████████████████████████████████████████████████████████████████████████████████████████████████████████████████████████████| 418/418 [00:06<00:00, 65.10it/s]\n"
     ]
    },
    {
     "name": "stdout",
     "output_type": "stream",
     "text": [
      "In epoch 3, loss = 1152.2574462890625\n",
      "Starting epoch 4\n"
     ]
    },
    {
     "name": "stderr",
     "output_type": "stream",
     "text": [
      " 97%|█████████████████████████████████████████████████████████████████████████████████████████████████████████████████████████████████████████████████████████████████████████████████████████████████████████████████████████████████▎      | 406/418 [00:06<00:00, 61.44it/s]"
     ]
    }
   ],
   "source": [
    "model = train(args[\"epochs\"], args[\"batch_size\"], modelfile=args[\"modelfile\"], device=device)"
   ]
  },
  {
   "cell_type": "code",
   "execution_count": null,
   "id": "675aa0a5-8f0f-45f5-8ff8-d3a79be2f3e7",
   "metadata": {},
   "outputs": [],
   "source": [
    "# TEST\n",
    "\n",
    "#parser = argparse.ArgumentParser()\n",
    "#parser.add_argument(\"-c\", \"--config\", help=\"configuration file\", default=\"config.json\")\n",
    "\n",
    "#args = parser.parse_args()\n",
    "\n",
    "#config = json.load(open(args.config))\n",
    "\n",
    "#testingdir = config[\"testingdir\"]\n",
    "#device = config[\"device\"]\n",
    "\n",
    "\n",
    "print(\"Running...\")\n",
    "\n",
    "#traindataset = WikiArtDataset(trainingdir, device)\n",
    "testingdataset = WikiArtDataset(testingdir, device)\n",
    "\n",
    "def test(modelfile=None, device=\"cpu\"):\n",
    "    loader = DataLoader(testingdataset, batch_size=1)\n",
    "\n",
    "    model = WikiArtModel()\n",
    "    model.load_state_dict(torch.load(modelfile, weights_only=True))\n",
    "    model = model.to(device)\n",
    "    model.eval()\n",
    "\n",
    "    predictions = []\n",
    "    truth = []\n",
    "    for batch_id, batch in enumerate(tqdm.tqdm(loader)):\n",
    "        X, y = batch\n",
    "        y = y.to(device)\n",
    "        output = model(X)\n",
    "        predictions.append(torch.argmax(output).unsqueeze(dim=0))\n",
    "        truth.append(y)\n",
    "\n",
    "    #print(\"predictions {}\".format(predictions))\n",
    "    #print(\"truth {}\".format(truth))\n",
    "    predictions = torch.concat(predictions)\n",
    "    truth = torch.concat(truth)\n",
    "    metric = metrics.MulticlassAccuracy()\n",
    "    metric.update(predictions, truth)\n",
    "    print(\"Accuracy: {}\".format(metric.compute()))\n",
    "    confusion = metrics.MulticlassConfusionMatrix(27)\n",
    "    confusion.update(predictions, truth)\n",
    "    print(\"Confusion Matrix\\n{}\".format(confusion.compute()))"
   ]
  },
  {
   "cell_type": "code",
   "execution_count": null,
   "id": "c3ddd7c1-b991-4c0b-b62a-b0105947d566",
   "metadata": {},
   "outputs": [],
   "source": [
    "test(modelfile=config[\"modelfile\"], device=device)"
   ]
  }
 ],
 "metadata": {
  "kernelspec": {
   "display_name": "Python 3 (ipykernel)",
   "language": "python",
   "name": "python3"
  },
  "language_info": {
   "codemirror_mode": {
    "name": "ipython",
    "version": 3
   },
   "file_extension": ".py",
   "mimetype": "text/x-python",
   "name": "python",
   "nbconvert_exporter": "python",
   "pygments_lexer": "ipython3",
   "version": "3.12.1"
  }
 },
 "nbformat": 4,
 "nbformat_minor": 5
}
