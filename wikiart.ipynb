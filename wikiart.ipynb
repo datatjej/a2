{
 "cells": [
  {
   "cell_type": "code",
   "execution_count": 2,
   "id": "f72c666a-529d-42a9-b104-73c9c6ae041d",
   "metadata": {},
   "outputs": [],
   "source": [
    "import sys\n",
    "import os\n",
    "import json\n",
    "import tqdm\n",
    "import argparse\n",
    "import torch\n",
    "import torch.nn as nn\n",
    "from torch.utils.data import Dataset, DataLoader\n",
    "from torchvision.io import read_image\n",
    "import matplotlib.pyplot as plt\n",
    "import torchvision.transforms.functional as F\n",
    "from torch.optim import Adam\n",
    "from torchvision.io import read_image\n",
    "import torcheval.metrics as metrics"
   ]
  },
  {
   "cell_type": "code",
   "execution_count": null,
   "id": "a96b9b5b-de5b-456f-ad28-25ed93a6a6d9",
   "metadata": {},
   "outputs": [],
   "source": []
  },
  {
   "cell_type": "code",
   "execution_count": 3,
   "id": "3f0b6590-adb6-4aec-8d7f-2ed91d60b03a",
   "metadata": {},
   "outputs": [],
   "source": [
    "args = {\n",
    "    'modelfile':'wikiart.pth',\n",
    "    'trainingdir':'/home/guserbto@GU.GU.SE/wikiart/train',\n",
    "    'validationdir': '/home/guserbto@GU.GU.SE/wikiart/valid',\n",
    "    'testingdir': '/home/guserbto@GU.GU.SE/wikiart/test',\n",
    "    'device': 'cuda:3',\n",
    "    'epochs':10,\n",
    "    'batch_size':32,\n",
    "    \n",
    "}\n",
    "\n",
    "modelfile = args['modelfile']\n",
    "trainingdir = args['trainingdir']\n",
    "validationdir = args['validationdir']\n",
    "testingdir = args['testingdir']\n",
    "device = args['device']\n",
    "epochs = args['epochs']\n",
    "batch_size = args['batch_size']"
   ]
  },
  {
   "cell_type": "code",
   "execution_count": 4,
   "id": "e9128419-7a9f-4808-b12b-22257dec030b",
   "metadata": {},
   "outputs": [],
   "source": [
    "class WikiArtImage:\n",
    "    def __init__(self, imgdir, label, filename):\n",
    "        self.imgdir = imgdir\n",
    "        self.label = label\n",
    "        self.filename = filename\n",
    "        self.image = None\n",
    "        self.loaded = False\n",
    "\n",
    "    def get(self):\n",
    "        if not self.loaded:\n",
    "            self.image = read_image(os.path.join(self.imgdir, self.label, self.filename)).float()\n",
    "            self.loaded = True\n",
    "            self.image /= 255.0\n",
    "\n",
    "        return self.image"
   ]
  },
  {
   "cell_type": "code",
   "execution_count": 5,
   "id": "238db86d-39f5-482a-9fa9-bf7f5f87165f",
   "metadata": {},
   "outputs": [],
   "source": [
    "class WikiArtDataset(Dataset):\n",
    "    def __init__(self, imgdir, device=\"cpu\"):\n",
    "        walking = os.walk(imgdir)\n",
    "        filedict = {}\n",
    "        indices = []\n",
    "        classes = set()\n",
    "        print(\"Gathering files for {}\".format(imgdir))\n",
    "        for item in walking:\n",
    "            sys.stdout.write('.')\n",
    "            arttype = os.path.basename(item[0])\n",
    "            artfiles = item[2]\n",
    "            for art in artfiles:\n",
    "                filedict[art] = WikiArtImage(imgdir, arttype, art)\n",
    "                indices.append(art)\n",
    "                classes.add(arttype)\n",
    "        print(\"...finished\")\n",
    "        self.filedict = filedict\n",
    "        self.imgdir = imgdir\n",
    "        self.indices = indices\n",
    "        self.classes = list(classes)\n",
    "        self.device = device\n",
    "        \n",
    "    def __len__(self):\n",
    "        return len(self.filedict)\n",
    "\n",
    "    def __getitem__(self, idx):\n",
    "        imgname = self.indices[idx]\n",
    "        imgobj = self.filedict[imgname]\n",
    "        ilabel = self.classes.index(imgobj.label)\n",
    "        image = imgobj.get().to(self.device)\n",
    "\n",
    "        return image, ilabel"
   ]
  },
  {
   "cell_type": "code",
   "execution_count": 6,
   "id": "3881dbfe-f09d-4c70-bac9-daa7b32ae0af",
   "metadata": {},
   "outputs": [],
   "source": [
    "class WikiArtModel(nn.Module):\n",
    "    def __init__(self, num_classes=27):\n",
    "        super(WikiArtModel, self).__init__()\n",
    "        self.conv2d_1 = nn.Conv2d(3, 32, kernel_size=4, padding=2)  # Output: (32, 416, 416)\n",
    "        self.maxpool2d_1 = nn.MaxPool2d(kernel_size=2, padding=1)   # Output: (32, 209, 209)\n",
    "        \n",
    "        self.conv2d_2 = nn.Conv2d(32, 64, kernel_size=4, padding=2) # Output: (64, 209, 209)\n",
    "        self.maxpool2d_2 = nn.MaxPool2d(kernel_size=2, padding=1)   # Output: (64, 106, 106) (rounded up from 105.5)\n",
    "\n",
    "        self.flatten = nn.Flatten()\n",
    "        self.batchnorm1d = nn.BatchNorm1d(64 * 106 * 106)\n",
    "        self.linear1 = nn.Linear(64 * 106 * 106, 300)\n",
    "        self.dropout = nn.Dropout(0.3)\n",
    "        self.relu = nn.ReLU()\n",
    "        self.linear2 = nn.Linear(300, num_classes)\n",
    "        self.softmax = nn.LogSoftmax(dim=1)\n",
    "\n",
    "    def forward(self, image):\n",
    "        output = self.conv2d_1(image)\n",
    "        output = self.relu(output)\n",
    "        output = self.maxpool2d_1(output)\n",
    "\n",
    "        output = self.conv2d_2(output)\n",
    "        output = self.relu(output)\n",
    "        output = self.maxpool2d_2(output)\n",
    "\n",
    "        output = self.flatten(output)\n",
    "        output = self.batchnorm1d(output)\n",
    "        output = self.linear1(output)\n",
    "        output = self.dropout(output)\n",
    "        output = self.relu(output)\n",
    "        output = self.linear2(output)\n",
    "        return self.softmax(output)"
   ]
  },
  {
   "cell_type": "code",
   "execution_count": null,
   "id": "18cf8497-b4e0-4c33-9f57-d8179cb58df5",
   "metadata": {},
   "outputs": [],
   "source": []
  },
  {
   "cell_type": "code",
   "execution_count": 6,
   "id": "8ad816a3-28f0-4259-b4f2-772ab6fcb2d0",
   "metadata": {},
   "outputs": [
    {
     "name": "stdout",
     "output_type": "stream",
     "text": [
      "Time to train...\n",
      "Gathering files for /home/guserbto@GU.GU.SE/wikiart/train\n",
      "...............................finished\n",
      "tensor([[[0.6706, 0.6118, 0.5804,  ..., 1.0000, 1.0000, 1.0000],\n",
      "         [0.5412, 0.7176, 0.9137,  ..., 1.0000, 1.0000, 1.0000],\n",
      "         [0.5961, 0.5333, 0.5176,  ..., 1.0000, 1.0000, 1.0000],\n",
      "         ...,\n",
      "         [0.6431, 0.6392, 0.6275,  ..., 0.6275, 0.6314, 0.6314],\n",
      "         [0.6314, 0.6235, 0.6118,  ..., 0.6275, 0.6431, 0.6588],\n",
      "         [0.6275, 0.6118, 0.5961,  ..., 0.6000, 0.6235, 0.6549]],\n",
      "\n",
      "        [[0.6784, 0.6157, 0.5804,  ..., 1.0000, 1.0000, 1.0000],\n",
      "         [0.5490, 0.7216, 0.9137,  ..., 1.0000, 1.0000, 1.0000],\n",
      "         [0.6000, 0.5373, 0.5137,  ..., 1.0000, 1.0000, 1.0000],\n",
      "         ...,\n",
      "         [0.6941, 0.6902, 0.6784,  ..., 0.7059, 0.6941, 0.6824],\n",
      "         [0.6824, 0.6745, 0.6627,  ..., 0.7059, 0.7059, 0.7098],\n",
      "         [0.6784, 0.6627, 0.6471,  ..., 0.6784, 0.6863, 0.7059]],\n",
      "\n",
      "        [[0.4863, 0.4431, 0.4392,  ..., 1.0000, 1.0000, 1.0000],\n",
      "         [0.3647, 0.5490, 0.7804,  ..., 1.0000, 1.0000, 1.0000],\n",
      "         [0.4275, 0.3725, 0.3922,  ..., 1.0000, 1.0000, 1.0000],\n",
      "         ...,\n",
      "         [0.5255, 0.5216, 0.5098,  ..., 0.5137, 0.5176, 0.5098],\n",
      "         [0.5137, 0.5059, 0.4941,  ..., 0.5137, 0.5294, 0.5373],\n",
      "         [0.5098, 0.4941, 0.4784,  ..., 0.4863, 0.5098, 0.5333]]],\n",
      "       device='cuda:3') torch.Size([3, 416, 416])\n"
     ]
    }
   ],
   "source": [
    "# TRAIN\n",
    "\n",
    "print(\"Time to train...\")\n",
    "\n",
    "\n",
    "traindataset = WikiArtDataset(trainingdir, device)\n",
    "\n",
    "the_image, the_label = traindataset[5]\n",
    "print(the_image, the_image.size())\n",
    "\n",
    "def train(epochs=3, batch_size=32, modelfile=None, device=\"cpu\"):\n",
    "    train_loader = DataLoader(traindataset, batch_size=batch_size, shuffle=True)\n",
    "\n",
    "    model = WikiArtModel().to(device)\n",
    "    optimizer = Adam(model.parameters(), lr=0.001)\n",
    "    criterion = nn.NLLLoss().to(device)\n",
    "    \n",
    "    for epoch in range(epochs):\n",
    "        print(\"Starting epoch {}\".format(epoch))\n",
    "        accumulate_loss = 0\n",
    "        for batch_id, batch in enumerate(tqdm.tqdm(train_loader)):\n",
    "            X, y = batch\n",
    "            y = y.to(device)\n",
    "            optimizer.zero_grad()\n",
    "            output = model(X)\n",
    "            loss = criterion(output, y)\n",
    "            loss.backward()\n",
    "            accumulate_loss += loss\n",
    "            optimizer.step()\n",
    "\n",
    "        print(\"In epoch {}, loss = {}\".format(epoch, accumulate_loss))\n",
    "\n",
    "    if modelfile:\n",
    "        torch.save(model.state_dict(), modelfile)\n",
    "\n",
    "    return model"
   ]
  },
  {
   "cell_type": "code",
   "execution_count": 7,
   "id": "657db5b8-e78a-4235-90dc-20bebc36290f",
   "metadata": {},
   "outputs": [
    {
     "name": "stdout",
     "output_type": "stream",
     "text": [
      "Starting epoch 0\n"
     ]
    },
    {
     "name": "stderr",
     "output_type": "stream",
     "text": [
      "100%|████████████████████████████████████████████████████████████████████████████████████████████████████████████████████████████████████████████████████████████████████████████████████████████████████████████████████████████████████████| 418/418 [02:34<00:00,  2.71it/s]\n"
     ]
    },
    {
     "name": "stdout",
     "output_type": "stream",
     "text": [
      "In epoch 0, loss = 3125.10400390625\n",
      "Starting epoch 1\n"
     ]
    },
    {
     "name": "stderr",
     "output_type": "stream",
     "text": [
      "100%|████████████████████████████████████████████████████████████████████████████████████████████████████████████████████████████████████████████████████████████████████████████████████████████████████████████████████████████████████████| 418/418 [01:34<00:00,  4.41it/s]\n"
     ]
    },
    {
     "name": "stdout",
     "output_type": "stream",
     "text": [
      "In epoch 1, loss = 1206.542724609375\n",
      "Starting epoch 2\n"
     ]
    },
    {
     "name": "stderr",
     "output_type": "stream",
     "text": [
      "100%|████████████████████████████████████████████████████████████████████████████████████████████████████████████████████████████████████████████████████████████████████████████████████████████████████████████████████████████████████████| 418/418 [01:49<00:00,  3.81it/s]\n"
     ]
    },
    {
     "name": "stdout",
     "output_type": "stream",
     "text": [
      "In epoch 2, loss = 1189.5909423828125\n",
      "Starting epoch 3\n"
     ]
    },
    {
     "name": "stderr",
     "output_type": "stream",
     "text": [
      "100%|████████████████████████████████████████████████████████████████████████████████████████████████████████████████████████████████████████████████████████████████████████████████████████████████████████████████████████████████████████| 418/418 [02:13<00:00,  3.14it/s]\n"
     ]
    },
    {
     "name": "stdout",
     "output_type": "stream",
     "text": [
      "In epoch 3, loss = 1166.2662353515625\n",
      "Starting epoch 4\n"
     ]
    },
    {
     "name": "stderr",
     "output_type": "stream",
     "text": [
      "100%|████████████████████████████████████████████████████████████████████████████████████████████████████████████████████████████████████████████████████████████████████████████████████████████████████████████████████████████████████████| 418/418 [02:36<00:00,  2.66it/s]\n"
     ]
    },
    {
     "name": "stdout",
     "output_type": "stream",
     "text": [
      "In epoch 4, loss = 1146.133544921875\n",
      "Starting epoch 5\n"
     ]
    },
    {
     "name": "stderr",
     "output_type": "stream",
     "text": [
      "100%|████████████████████████████████████████████████████████████████████████████████████████████████████████████████████████████████████████████████████████████████████████████████████████████████████████████████████████████████████████| 418/418 [02:36<00:00,  2.66it/s]\n"
     ]
    },
    {
     "name": "stdout",
     "output_type": "stream",
     "text": [
      "In epoch 5, loss = 1132.095947265625\n",
      "Starting epoch 6\n"
     ]
    },
    {
     "name": "stderr",
     "output_type": "stream",
     "text": [
      "100%|████████████████████████████████████████████████████████████████████████████████████████████████████████████████████████████████████████████████████████████████████████████████████████████████████████████████████████████████████████| 418/418 [02:37<00:00,  2.66it/s]\n"
     ]
    },
    {
     "name": "stdout",
     "output_type": "stream",
     "text": [
      "In epoch 6, loss = 1118.5960693359375\n",
      "Starting epoch 7\n"
     ]
    },
    {
     "name": "stderr",
     "output_type": "stream",
     "text": [
      "100%|████████████████████████████████████████████████████████████████████████████████████████████████████████████████████████████████████████████████████████████████████████████████████████████████████████████████████████████████████████| 418/418 [02:18<00:00,  3.02it/s]\n"
     ]
    },
    {
     "name": "stdout",
     "output_type": "stream",
     "text": [
      "In epoch 7, loss = 1109.4715576171875\n",
      "Starting epoch 8\n"
     ]
    },
    {
     "name": "stderr",
     "output_type": "stream",
     "text": [
      "100%|████████████████████████████████████████████████████████████████████████████████████████████████████████████████████████████████████████████████████████████████████████████████████████████████████████████████████████████████████████| 418/418 [01:31<00:00,  4.56it/s]\n"
     ]
    },
    {
     "name": "stdout",
     "output_type": "stream",
     "text": [
      "In epoch 8, loss = 1102.123046875\n",
      "Starting epoch 9\n"
     ]
    },
    {
     "name": "stderr",
     "output_type": "stream",
     "text": [
      "100%|████████████████████████████████████████████████████████████████████████████████████████████████████████████████████████████████████████████████████████████████████████████████████████████████████████████████████████████████████████| 418/418 [01:31<00:00,  4.58it/s]\n"
     ]
    },
    {
     "name": "stdout",
     "output_type": "stream",
     "text": [
      "In epoch 9, loss = 1100.4359130859375\n"
     ]
    }
   ],
   "source": [
    "model = train(args[\"epochs\"], args[\"batch_size\"], modelfile=args[\"modelfile\"], device=device)"
   ]
  },
  {
   "cell_type": "code",
   "execution_count": 7,
   "id": "675aa0a5-8f0f-45f5-8ff8-d3a79be2f3e7",
   "metadata": {},
   "outputs": [
    {
     "name": "stdout",
     "output_type": "stream",
     "text": [
      "Testing...\n",
      "Gathering files for /home/guserbto@GU.GU.SE/wikiart/test\n",
      "..............................finished\n"
     ]
    }
   ],
   "source": [
    "# TEST\n",
    "\n",
    "print(\"Testing...\")\n",
    "\n",
    "testingdataset = WikiArtDataset(testingdir, device)\n",
    "\n",
    "def test(modelfile=None, device=\"cpu\"):\n",
    "    loader = DataLoader(testingdataset, batch_size=1)\n",
    "\n",
    "    model = WikiArtModel()\n",
    "    model.load_state_dict(torch.load(modelfile, weights_only=True))\n",
    "    model = model.to(device)\n",
    "    model.eval()\n",
    "\n",
    "    predictions = []\n",
    "    truth = []\n",
    "    for batch_id, batch in enumerate(tqdm.tqdm(loader)):\n",
    "        X, y = batch\n",
    "        y = y.to(device)\n",
    "        output = model(X)\n",
    "        predictions.append(torch.argmax(output).unsqueeze(dim=0))\n",
    "        truth.append(y)\n",
    "\n",
    "    #print(\"predictions {}\".format(predictions))\n",
    "    print(\"truth {}\".format(truth))\n",
    "    predictions = torch.concat(predictions)\n",
    "    truth = torch.concat(truth)\n",
    "    metric = metrics.MulticlassAccuracy()\n",
    "    metric.update(predictions, truth)\n",
    "    print(\"Accuracy: {}\".format(metric.compute()))\n",
    "    confusion = metrics.MulticlassConfusionMatrix(27)\n",
    "    confusion.update(predictions, truth)\n",
    "    print(\"Confusion Matrix\\n{}\".format(confusion.compute()))"
   ]
  },
  {
   "cell_type": "code",
   "execution_count": 8,
   "id": "c3ddd7c1-b991-4c0b-b62a-b0105947d566",
   "metadata": {},
   "outputs": [
    {
     "name": "stderr",
     "output_type": "stream",
     "text": [
      "100%|███████████████████████████████████████████████████████████████████████████████████████████████████████████████████████████████████████████████████████████████████████████████████████████████████████████████████████████████████████| 629/629 [00:02<00:00, 211.28it/s]\n"
     ]
    },
    {
     "name": "stdout",
     "output_type": "stream",
     "text": [
      "truth [tensor([1], device='cuda:3'), tensor([1], device='cuda:3'), tensor([1], device='cuda:3'), tensor([1], device='cuda:3'), tensor([1], device='cuda:3'), tensor([1], device='cuda:3'), tensor([1], device='cuda:3'), tensor([1], device='cuda:3'), tensor([1], device='cuda:3'), tensor([1], device='cuda:3'), tensor([1], device='cuda:3'), tensor([1], device='cuda:3'), tensor([1], device='cuda:3'), tensor([1], device='cuda:3'), tensor([1], device='cuda:3'), tensor([1], device='cuda:3'), tensor([1], device='cuda:3'), tensor([9], device='cuda:3'), tensor([9], device='cuda:3'), tensor([7], device='cuda:3'), tensor([7], device='cuda:3'), tensor([7], device='cuda:3'), tensor([7], device='cuda:3'), tensor([7], device='cuda:3'), tensor([7], device='cuda:3'), tensor([7], device='cuda:3'), tensor([7], device='cuda:3'), tensor([7], device='cuda:3'), tensor([7], device='cuda:3'), tensor([7], device='cuda:3'), tensor([7], device='cuda:3'), tensor([7], device='cuda:3'), tensor([7], device='cuda:3'), tensor([7], device='cuda:3'), tensor([7], device='cuda:3'), tensor([7], device='cuda:3'), tensor([7], device='cuda:3'), tensor([7], device='cuda:3'), tensor([7], device='cuda:3'), tensor([7], device='cuda:3'), tensor([7], device='cuda:3'), tensor([7], device='cuda:3'), tensor([7], device='cuda:3'), tensor([7], device='cuda:3'), tensor([7], device='cuda:3'), tensor([7], device='cuda:3'), tensor([7], device='cuda:3'), tensor([7], device='cuda:3'), tensor([7], device='cuda:3'), tensor([7], device='cuda:3'), tensor([7], device='cuda:3'), tensor([24], device='cuda:3'), tensor([24], device='cuda:3'), tensor([24], device='cuda:3'), tensor([24], device='cuda:3'), tensor([24], device='cuda:3'), tensor([24], device='cuda:3'), tensor([24], device='cuda:3'), tensor([24], device='cuda:3'), tensor([24], device='cuda:3'), tensor([24], device='cuda:3'), tensor([24], device='cuda:3'), tensor([24], device='cuda:3'), tensor([24], device='cuda:3'), tensor([24], device='cuda:3'), tensor([24], device='cuda:3'), tensor([24], device='cuda:3'), tensor([24], device='cuda:3'), tensor([24], device='cuda:3'), tensor([24], device='cuda:3'), tensor([24], device='cuda:3'), tensor([24], device='cuda:3'), tensor([24], device='cuda:3'), tensor([24], device='cuda:3'), tensor([24], device='cuda:3'), tensor([24], device='cuda:3'), tensor([24], device='cuda:3'), tensor([24], device='cuda:3'), tensor([24], device='cuda:3'), tensor([24], device='cuda:3'), tensor([24], device='cuda:3'), tensor([24], device='cuda:3'), tensor([24], device='cuda:3'), tensor([24], device='cuda:3'), tensor([24], device='cuda:3'), tensor([13], device='cuda:3'), tensor([13], device='cuda:3'), tensor([13], device='cuda:3'), tensor([13], device='cuda:3'), tensor([13], device='cuda:3'), tensor([13], device='cuda:3'), tensor([3], device='cuda:3'), tensor([3], device='cuda:3'), tensor([3], device='cuda:3'), tensor([4], device='cuda:3'), tensor([4], device='cuda:3'), tensor([4], device='cuda:3'), tensor([4], device='cuda:3'), tensor([4], device='cuda:3'), tensor([4], device='cuda:3'), tensor([4], device='cuda:3'), tensor([4], device='cuda:3'), tensor([4], device='cuda:3'), tensor([4], device='cuda:3'), tensor([4], device='cuda:3'), tensor([4], device='cuda:3'), tensor([4], device='cuda:3'), tensor([4], device='cuda:3'), tensor([4], device='cuda:3'), tensor([15], device='cuda:3'), tensor([15], device='cuda:3'), tensor([15], device='cuda:3'), tensor([15], device='cuda:3'), tensor([15], device='cuda:3'), tensor([15], device='cuda:3'), tensor([15], device='cuda:3'), tensor([15], device='cuda:3'), tensor([15], device='cuda:3'), tensor([10], device='cuda:3'), tensor([10], device='cuda:3'), tensor([10], device='cuda:3'), tensor([10], device='cuda:3'), tensor([10], device='cuda:3'), tensor([10], device='cuda:3'), tensor([10], device='cuda:3'), tensor([10], device='cuda:3'), tensor([10], device='cuda:3'), tensor([10], device='cuda:3'), tensor([10], device='cuda:3'), tensor([10], device='cuda:3'), tensor([10], device='cuda:3'), tensor([10], device='cuda:3'), tensor([10], device='cuda:3'), tensor([10], device='cuda:3'), tensor([10], device='cuda:3'), tensor([10], device='cuda:3'), tensor([10], device='cuda:3'), tensor([10], device='cuda:3'), tensor([10], device='cuda:3'), tensor([10], device='cuda:3'), tensor([10], device='cuda:3'), tensor([10], device='cuda:3'), tensor([10], device='cuda:3'), tensor([10], device='cuda:3'), tensor([10], device='cuda:3'), tensor([10], device='cuda:3'), tensor([10], device='cuda:3'), tensor([10], device='cuda:3'), tensor([10], device='cuda:3'), tensor([10], device='cuda:3'), tensor([10], device='cuda:3'), tensor([10], device='cuda:3'), tensor([10], device='cuda:3'), tensor([10], device='cuda:3'), tensor([10], device='cuda:3'), tensor([10], device='cuda:3'), tensor([10], device='cuda:3'), tensor([10], device='cuda:3'), tensor([10], device='cuda:3'), tensor([10], device='cuda:3'), tensor([10], device='cuda:3'), tensor([10], device='cuda:3'), tensor([10], device='cuda:3'), tensor([10], device='cuda:3'), tensor([10], device='cuda:3'), tensor([10], device='cuda:3'), tensor([10], device='cuda:3'), tensor([10], device='cuda:3'), tensor([10], device='cuda:3'), tensor([10], device='cuda:3'), tensor([18], device='cuda:3'), tensor([18], device='cuda:3'), tensor([18], device='cuda:3'), tensor([18], device='cuda:3'), tensor([18], device='cuda:3'), tensor([18], device='cuda:3'), tensor([18], device='cuda:3'), tensor([18], device='cuda:3'), tensor([0], device='cuda:3'), tensor([0], device='cuda:3'), tensor([0], device='cuda:3'), tensor([0], device='cuda:3'), tensor([0], device='cuda:3'), tensor([0], device='cuda:3'), tensor([0], device='cuda:3'), tensor([0], device='cuda:3'), tensor([0], device='cuda:3'), tensor([21], device='cuda:3'), tensor([21], device='cuda:3'), tensor([21], device='cuda:3'), tensor([21], device='cuda:3'), tensor([21], device='cuda:3'), tensor([21], device='cuda:3'), tensor([21], device='cuda:3'), tensor([21], device='cuda:3'), tensor([21], device='cuda:3'), tensor([21], device='cuda:3'), tensor([21], device='cuda:3'), tensor([21], device='cuda:3'), tensor([21], device='cuda:3'), tensor([21], device='cuda:3'), tensor([21], device='cuda:3'), tensor([21], device='cuda:3'), tensor([21], device='cuda:3'), tensor([21], device='cuda:3'), tensor([21], device='cuda:3'), tensor([21], device='cuda:3'), tensor([21], device='cuda:3'), tensor([21], device='cuda:3'), tensor([21], device='cuda:3'), tensor([21], device='cuda:3'), tensor([21], device='cuda:3'), tensor([21], device='cuda:3'), tensor([21], device='cuda:3'), tensor([21], device='cuda:3'), tensor([21], device='cuda:3'), tensor([21], device='cuda:3'), tensor([21], device='cuda:3'), tensor([21], device='cuda:3'), tensor([21], device='cuda:3'), tensor([21], device='cuda:3'), tensor([21], device='cuda:3'), tensor([21], device='cuda:3'), tensor([21], device='cuda:3'), tensor([21], device='cuda:3'), tensor([21], device='cuda:3'), tensor([21], device='cuda:3'), tensor([21], device='cuda:3'), tensor([21], device='cuda:3'), tensor([21], device='cuda:3'), tensor([21], device='cuda:3'), tensor([21], device='cuda:3'), tensor([21], device='cuda:3'), tensor([21], device='cuda:3'), tensor([21], device='cuda:3'), tensor([21], device='cuda:3'), tensor([21], device='cuda:3'), tensor([21], device='cuda:3'), tensor([21], device='cuda:3'), tensor([21], device='cuda:3'), tensor([21], device='cuda:3'), tensor([21], device='cuda:3'), tensor([21], device='cuda:3'), tensor([21], device='cuda:3'), tensor([21], device='cuda:3'), tensor([21], device='cuda:3'), tensor([21], device='cuda:3'), tensor([21], device='cuda:3'), tensor([21], device='cuda:3'), tensor([21], device='cuda:3'), tensor([21], device='cuda:3'), tensor([21], device='cuda:3'), tensor([21], device='cuda:3'), tensor([21], device='cuda:3'), tensor([21], device='cuda:3'), tensor([21], device='cuda:3'), tensor([21], device='cuda:3'), tensor([21], device='cuda:3'), tensor([21], device='cuda:3'), tensor([21], device='cuda:3'), tensor([21], device='cuda:3'), tensor([21], device='cuda:3'), tensor([21], device='cuda:3'), tensor([21], device='cuda:3'), tensor([21], device='cuda:3'), tensor([21], device='cuda:3'), tensor([21], device='cuda:3'), tensor([21], device='cuda:3'), tensor([21], device='cuda:3'), tensor([21], device='cuda:3'), tensor([21], device='cuda:3'), tensor([21], device='cuda:3'), tensor([21], device='cuda:3'), tensor([21], device='cuda:3'), tensor([21], device='cuda:3'), tensor([21], device='cuda:3'), tensor([21], device='cuda:3'), tensor([21], device='cuda:3'), tensor([21], device='cuda:3'), tensor([21], device='cuda:3'), tensor([21], device='cuda:3'), tensor([21], device='cuda:3'), tensor([21], device='cuda:3'), tensor([21], device='cuda:3'), tensor([21], device='cuda:3'), tensor([21], device='cuda:3'), tensor([21], device='cuda:3'), tensor([21], device='cuda:3'), tensor([25], device='cuda:3'), tensor([25], device='cuda:3'), tensor([25], device='cuda:3'), tensor([25], device='cuda:3'), tensor([25], device='cuda:3'), tensor([25], device='cuda:3'), tensor([25], device='cuda:3'), tensor([25], device='cuda:3'), tensor([25], device='cuda:3'), tensor([25], device='cuda:3'), tensor([25], device='cuda:3'), tensor([25], device='cuda:3'), tensor([5], device='cuda:3'), tensor([5], device='cuda:3'), tensor([5], device='cuda:3'), tensor([5], device='cuda:3'), tensor([5], device='cuda:3'), tensor([5], device='cuda:3'), tensor([5], device='cuda:3'), tensor([5], device='cuda:3'), tensor([5], device='cuda:3'), tensor([5], device='cuda:3'), tensor([14], device='cuda:3'), tensor([14], device='cuda:3'), tensor([14], device='cuda:3'), tensor([14], device='cuda:3'), tensor([14], device='cuda:3'), tensor([14], device='cuda:3'), tensor([14], device='cuda:3'), tensor([14], device='cuda:3'), tensor([14], device='cuda:3'), tensor([14], device='cuda:3'), tensor([14], device='cuda:3'), tensor([14], device='cuda:3'), tensor([14], device='cuda:3'), tensor([14], device='cuda:3'), tensor([14], device='cuda:3'), tensor([14], device='cuda:3'), tensor([14], device='cuda:3'), tensor([14], device='cuda:3'), tensor([14], device='cuda:3'), tensor([17], device='cuda:3'), tensor([2], device='cuda:3'), tensor([2], device='cuda:3'), tensor([2], device='cuda:3'), tensor([2], device='cuda:3'), tensor([2], device='cuda:3'), tensor([2], device='cuda:3'), tensor([2], device='cuda:3'), tensor([2], device='cuda:3'), tensor([2], device='cuda:3'), tensor([2], device='cuda:3'), tensor([2], device='cuda:3'), tensor([2], device='cuda:3'), tensor([2], device='cuda:3'), tensor([2], device='cuda:3'), tensor([2], device='cuda:3'), tensor([2], device='cuda:3'), tensor([2], device='cuda:3'), tensor([2], device='cuda:3'), tensor([2], device='cuda:3'), tensor([2], device='cuda:3'), tensor([2], device='cuda:3'), tensor([2], device='cuda:3'), tensor([2], device='cuda:3'), tensor([19], device='cuda:3'), tensor([19], device='cuda:3'), tensor([19], device='cuda:3'), tensor([19], device='cuda:3'), tensor([19], device='cuda:3'), tensor([19], device='cuda:3'), tensor([23], device='cuda:3'), tensor([23], device='cuda:3'), tensor([23], device='cuda:3'), tensor([23], device='cuda:3'), tensor([23], device='cuda:3'), tensor([23], device='cuda:3'), tensor([23], device='cuda:3'), tensor([23], device='cuda:3'), tensor([23], device='cuda:3'), tensor([23], device='cuda:3'), tensor([23], device='cuda:3'), tensor([23], device='cuda:3'), tensor([23], device='cuda:3'), tensor([23], device='cuda:3'), tensor([23], device='cuda:3'), tensor([20], device='cuda:3'), tensor([20], device='cuda:3'), tensor([20], device='cuda:3'), tensor([20], device='cuda:3'), tensor([20], device='cuda:3'), tensor([20], device='cuda:3'), tensor([20], device='cuda:3'), tensor([20], device='cuda:3'), tensor([20], device='cuda:3'), tensor([20], device='cuda:3'), tensor([20], device='cuda:3'), tensor([20], device='cuda:3'), tensor([20], device='cuda:3'), tensor([20], device='cuda:3'), tensor([20], device='cuda:3'), tensor([20], device='cuda:3'), tensor([20], device='cuda:3'), tensor([20], device='cuda:3'), tensor([20], device='cuda:3'), tensor([20], device='cuda:3'), tensor([20], device='cuda:3'), tensor([20], device='cuda:3'), tensor([20], device='cuda:3'), tensor([20], device='cuda:3'), tensor([20], device='cuda:3'), tensor([20], device='cuda:3'), tensor([20], device='cuda:3'), tensor([20], device='cuda:3'), tensor([20], device='cuda:3'), tensor([20], device='cuda:3'), tensor([20], device='cuda:3'), tensor([20], device='cuda:3'), tensor([20], device='cuda:3'), tensor([20], device='cuda:3'), tensor([20], device='cuda:3'), tensor([20], device='cuda:3'), tensor([20], device='cuda:3'), tensor([20], device='cuda:3'), tensor([20], device='cuda:3'), tensor([20], device='cuda:3'), tensor([20], device='cuda:3'), tensor([20], device='cuda:3'), tensor([20], device='cuda:3'), tensor([20], device='cuda:3'), tensor([20], device='cuda:3'), tensor([20], device='cuda:3'), tensor([20], device='cuda:3'), tensor([20], device='cuda:3'), tensor([20], device='cuda:3'), tensor([20], device='cuda:3'), tensor([20], device='cuda:3'), tensor([8], device='cuda:3'), tensor([8], device='cuda:3'), tensor([8], device='cuda:3'), tensor([8], device='cuda:3'), tensor([8], device='cuda:3'), tensor([8], device='cuda:3'), tensor([8], device='cuda:3'), tensor([8], device='cuda:3'), tensor([8], device='cuda:3'), tensor([8], device='cuda:3'), tensor([8], device='cuda:3'), tensor([8], device='cuda:3'), tensor([8], device='cuda:3'), tensor([8], device='cuda:3'), tensor([8], device='cuda:3'), tensor([8], device='cuda:3'), tensor([8], device='cuda:3'), tensor([8], device='cuda:3'), tensor([8], device='cuda:3'), tensor([8], device='cuda:3'), tensor([8], device='cuda:3'), tensor([8], device='cuda:3'), tensor([8], device='cuda:3'), tensor([8], device='cuda:3'), tensor([8], device='cuda:3'), tensor([8], device='cuda:3'), tensor([8], device='cuda:3'), tensor([8], device='cuda:3'), tensor([8], device='cuda:3'), tensor([8], device='cuda:3'), tensor([8], device='cuda:3'), tensor([8], device='cuda:3'), tensor([8], device='cuda:3'), tensor([8], device='cuda:3'), tensor([8], device='cuda:3'), tensor([8], device='cuda:3'), tensor([8], device='cuda:3'), tensor([8], device='cuda:3'), tensor([8], device='cuda:3'), tensor([8], device='cuda:3'), tensor([8], device='cuda:3'), tensor([8], device='cuda:3'), tensor([8], device='cuda:3'), tensor([8], device='cuda:3'), tensor([8], device='cuda:3'), tensor([8], device='cuda:3'), tensor([8], device='cuda:3'), tensor([8], device='cuda:3'), tensor([8], device='cuda:3'), tensor([8], device='cuda:3'), tensor([8], device='cuda:3'), tensor([8], device='cuda:3'), tensor([8], device='cuda:3'), tensor([8], device='cuda:3'), tensor([8], device='cuda:3'), tensor([8], device='cuda:3'), tensor([8], device='cuda:3'), tensor([8], device='cuda:3'), tensor([8], device='cuda:3'), tensor([8], device='cuda:3'), tensor([8], device='cuda:3'), tensor([8], device='cuda:3'), tensor([8], device='cuda:3'), tensor([8], device='cuda:3'), tensor([8], device='cuda:3'), tensor([8], device='cuda:3'), tensor([8], device='cuda:3'), tensor([8], device='cuda:3'), tensor([8], device='cuda:3'), tensor([8], device='cuda:3'), tensor([8], device='cuda:3'), tensor([8], device='cuda:3'), tensor([8], device='cuda:3'), tensor([8], device='cuda:3'), tensor([8], device='cuda:3'), tensor([8], device='cuda:3'), tensor([8], device='cuda:3'), tensor([8], device='cuda:3'), tensor([8], device='cuda:3'), tensor([8], device='cuda:3'), tensor([8], device='cuda:3'), tensor([8], device='cuda:3'), tensor([12], device='cuda:3'), tensor([12], device='cuda:3'), tensor([12], device='cuda:3'), tensor([12], device='cuda:3'), tensor([12], device='cuda:3'), tensor([12], device='cuda:3'), tensor([12], device='cuda:3'), tensor([12], device='cuda:3'), tensor([12], device='cuda:3'), tensor([12], device='cuda:3'), tensor([12], device='cuda:3'), tensor([12], device='cuda:3'), tensor([12], device='cuda:3'), tensor([6], device='cuda:3'), tensor([6], device='cuda:3'), tensor([6], device='cuda:3'), tensor([6], device='cuda:3'), tensor([6], device='cuda:3'), tensor([6], device='cuda:3'), tensor([6], device='cuda:3'), tensor([6], device='cuda:3'), tensor([6], device='cuda:3'), tensor([6], device='cuda:3'), tensor([6], device='cuda:3'), tensor([6], device='cuda:3'), tensor([6], device='cuda:3'), tensor([6], device='cuda:3'), tensor([6], device='cuda:3'), tensor([6], device='cuda:3'), tensor([6], device='cuda:3'), tensor([6], device='cuda:3'), tensor([6], device='cuda:3'), tensor([6], device='cuda:3'), tensor([6], device='cuda:3'), tensor([6], device='cuda:3'), tensor([6], device='cuda:3'), tensor([6], device='cuda:3'), tensor([6], device='cuda:3'), tensor([6], device='cuda:3'), tensor([6], device='cuda:3'), tensor([6], device='cuda:3'), tensor([6], device='cuda:3'), tensor([6], device='cuda:3'), tensor([6], device='cuda:3'), tensor([6], device='cuda:3'), tensor([6], device='cuda:3'), tensor([6], device='cuda:3'), tensor([6], device='cuda:3'), tensor([6], device='cuda:3'), tensor([6], device='cuda:3'), tensor([6], device='cuda:3'), tensor([6], device='cuda:3'), tensor([6], device='cuda:3'), tensor([6], device='cuda:3'), tensor([6], device='cuda:3'), tensor([6], device='cuda:3'), tensor([6], device='cuda:3'), tensor([6], device='cuda:3'), tensor([6], device='cuda:3'), tensor([6], device='cuda:3'), tensor([6], device='cuda:3'), tensor([6], device='cuda:3'), tensor([6], device='cuda:3'), tensor([6], device='cuda:3'), tensor([22], device='cuda:3'), tensor([22], device='cuda:3'), tensor([22], device='cuda:3'), tensor([22], device='cuda:3'), tensor([22], device='cuda:3'), tensor([22], device='cuda:3'), tensor([22], device='cuda:3'), tensor([22], device='cuda:3'), tensor([22], device='cuda:3'), tensor([22], device='cuda:3'), tensor([22], device='cuda:3'), tensor([22], device='cuda:3'), tensor([22], device='cuda:3'), tensor([22], device='cuda:3'), tensor([22], device='cuda:3'), tensor([22], device='cuda:3'), tensor([22], device='cuda:3'), tensor([22], device='cuda:3'), tensor([22], device='cuda:3'), tensor([22], device='cuda:3'), tensor([22], device='cuda:3'), tensor([22], device='cuda:3'), tensor([22], device='cuda:3'), tensor([22], device='cuda:3'), tensor([22], device='cuda:3'), tensor([22], device='cuda:3'), tensor([22], device='cuda:3'), tensor([22], device='cuda:3'), tensor([22], device='cuda:3'), tensor([22], device='cuda:3'), tensor([22], device='cuda:3'), tensor([22], device='cuda:3'), tensor([22], device='cuda:3'), tensor([22], device='cuda:3'), tensor([22], device='cuda:3'), tensor([22], device='cuda:3'), tensor([22], device='cuda:3'), tensor([22], device='cuda:3'), tensor([22], device='cuda:3'), tensor([22], device='cuda:3'), tensor([22], device='cuda:3'), tensor([22], device='cuda:3'), tensor([22], device='cuda:3'), tensor([22], device='cuda:3'), tensor([22], device='cuda:3'), tensor([11], device='cuda:3'), tensor([16], device='cuda:3'), tensor([16], device='cuda:3'), tensor([16], device='cuda:3'), tensor([16], device='cuda:3'), tensor([16], device='cuda:3'), tensor([16], device='cuda:3'), tensor([16], device='cuda:3'), tensor([16], device='cuda:3'), tensor([16], device='cuda:3'), tensor([16], device='cuda:3'), tensor([16], device='cuda:3'), tensor([16], device='cuda:3')]\n",
      "Accuracy: 0.006359300576150417\n",
      "Confusion Matrix\n",
      "tensor([[ 0.,  0.,  0.,  6.,  0.,  0.,  0.,  0.,  0.,  0.,  0.,  0.,  0.,  0.,\n",
      "          0.,  0.,  0.,  0.,  0.,  3.,  0.,  0.,  0.,  0.,  0.,  0.,  0.],\n",
      "        [ 2.,  0.,  0.,  7.,  0.,  0.,  0.,  0.,  0.,  0.,  0.,  0.,  0.,  0.,\n",
      "          0.,  0.,  0.,  0.,  0.,  8.,  0.,  0.,  0.,  0.,  0.,  0.,  0.],\n",
      "        [ 0.,  0.,  1.,  9.,  0.,  0.,  0.,  0.,  0.,  0.,  0.,  0.,  0.,  0.,\n",
      "          0.,  0.,  0.,  0.,  0., 13.,  0.,  0.,  0.,  0.,  0.,  0.,  0.],\n",
      "        [ 0.,  0.,  0.,  2.,  0.,  0.,  0.,  0.,  0.,  0.,  0.,  0.,  0.,  0.,\n",
      "          0.,  0.,  0.,  0.,  0.,  1.,  0.,  0.,  0.,  0.,  0.,  0.,  0.],\n",
      "        [ 0.,  0.,  1.,  8.,  0.,  0.,  0.,  0.,  0.,  0.,  0.,  0.,  0.,  0.,\n",
      "          0.,  0.,  0.,  0.,  0.,  6.,  0.,  0.,  0.,  0.,  0.,  0.,  0.],\n",
      "        [ 0.,  0.,  0.,  5.,  0.,  0.,  1.,  0.,  0.,  0.,  0.,  0.,  0.,  0.,\n",
      "          0.,  0.,  0.,  0.,  0.,  4.,  0.,  0.,  0.,  0.,  0.,  0.,  0.],\n",
      "        [ 0.,  0.,  0., 36.,  0.,  0.,  0.,  0.,  0.,  0.,  0.,  0.,  0.,  0.,\n",
      "          0.,  0.,  0.,  0.,  0., 15.,  0.,  0.,  0.,  0.,  0.,  0.,  0.],\n",
      "        [ 0.,  0.,  1., 15.,  0.,  0.,  0.,  0.,  0.,  0.,  0.,  0.,  0.,  0.,\n",
      "          0.,  0.,  0.,  0.,  0., 16.,  0.,  0.,  0.,  0.,  0.,  0.,  0.],\n",
      "        [ 0.,  0.,  0., 49.,  0.,  0.,  0.,  0.,  0.,  0.,  0.,  0.,  0.,  0.,\n",
      "          0.,  0.,  0.,  0.,  0., 33.,  0.,  0.,  0.,  0.,  0.,  0.,  0.],\n",
      "        [ 0.,  0.,  0.,  2.,  0.,  0.,  0.,  0.,  0.,  0.,  0.,  0.,  0.,  0.,\n",
      "          0.,  0.,  0.,  0.,  0.,  0.,  0.,  0.,  0.,  0.,  0.,  0.,  0.],\n",
      "        [ 3.,  0.,  0., 30.,  0.,  0.,  0.,  0.,  0.,  0.,  0.,  0.,  0.,  0.,\n",
      "          0.,  0.,  0.,  0.,  0., 19.,  0.,  0.,  0.,  0.,  0.,  0.,  0.],\n",
      "        [ 0.,  0.,  0.,  1.,  0.,  0.,  0.,  0.,  0.,  0.,  0.,  0.,  0.,  0.,\n",
      "          0.,  0.,  0.,  0.,  0.,  0.,  0.,  0.,  0.,  0.,  0.,  0.,  0.],\n",
      "        [ 0.,  0.,  0.,  9.,  0.,  0.,  0.,  0.,  0.,  0.,  0.,  0.,  0.,  0.,\n",
      "          0.,  0.,  0.,  0.,  0.,  4.,  0.,  0.,  0.,  0.,  0.,  0.,  0.],\n",
      "        [ 0.,  0.,  0.,  4.,  0.,  0.,  0.,  0.,  0.,  0.,  0.,  0.,  0.,  0.,\n",
      "          0.,  0.,  0.,  0.,  0.,  2.,  0.,  0.,  0.,  0.,  0.,  0.,  0.],\n",
      "        [ 0.,  0.,  1., 11.,  0.,  0.,  0.,  0.,  0.,  2.,  0.,  0.,  0.,  0.,\n",
      "          0.,  0.,  0.,  0.,  0.,  5.,  0.,  0.,  0.,  0.,  0.,  0.,  0.],\n",
      "        [ 0.,  0.,  0.,  2.,  0.,  0.,  0.,  0.,  0.,  0.,  0.,  0.,  0.,  0.,\n",
      "          0.,  0.,  0.,  0.,  0.,  7.,  0.,  0.,  0.,  0.,  0.,  0.,  0.],\n",
      "        [ 1.,  0.,  0.,  4.,  0.,  0.,  0.,  0.,  0.,  0.,  0.,  0.,  0.,  0.,\n",
      "          0.,  0.,  0.,  0.,  0.,  7.,  0.,  0.,  0.,  0.,  0.,  0.,  0.],\n",
      "        [ 0.,  0.,  0.,  0.,  0.,  0.,  0.,  0.,  0.,  0.,  0.,  0.,  0.,  0.,\n",
      "          0.,  0.,  0.,  0.,  0.,  1.,  0.,  0.,  0.,  0.,  0.,  0.,  0.],\n",
      "        [ 0.,  0.,  0.,  4.,  0.,  0.,  0.,  0.,  0.,  0.,  0.,  0.,  0.,  0.,\n",
      "          0.,  0.,  0.,  0.,  0.,  4.,  0.,  0.,  0.,  0.,  0.,  0.,  0.],\n",
      "        [ 1.,  0.,  0.,  4.,  0.,  0.,  0.,  0.,  0.,  0.,  0.,  0.,  0.,  0.,\n",
      "          0.,  0.,  0.,  0.,  0.,  1.,  0.,  0.,  0.,  0.,  0.,  0.,  0.],\n",
      "        [ 1.,  0.,  0., 36.,  0.,  0.,  0.,  0.,  0.,  0.,  0.,  0.,  0.,  0.,\n",
      "          0.,  0.,  0.,  0.,  0., 14.,  0.,  0.,  0.,  0.,  0.,  0.,  0.],\n",
      "        [ 0.,  0.,  0., 67.,  0.,  0.,  0.,  0.,  0.,  0.,  0.,  0.,  0.,  0.,\n",
      "          0.,  0.,  0.,  0.,  0., 34.,  0.,  0.,  0.,  0.,  0.,  0.,  0.],\n",
      "        [ 0.,  0.,  0., 25.,  0.,  0.,  0.,  0.,  0.,  0.,  0.,  0.,  0.,  0.,\n",
      "          0.,  0.,  0.,  0.,  0., 20.,  0.,  0.,  0.,  0.,  0.,  0.,  0.],\n",
      "        [ 0.,  0.,  1.,  6.,  0.,  0.,  0.,  0.,  0.,  0.,  0.,  0.,  0.,  0.,\n",
      "          0.,  0.,  0.,  0.,  0.,  8.,  0.,  0.,  0.,  0.,  0.,  0.,  0.],\n",
      "        [ 0.,  0.,  0., 19.,  0.,  0.,  0.,  0.,  0.,  0.,  0.,  0.,  0.,  0.,\n",
      "          0.,  0.,  0.,  0.,  0., 15.,  0.,  0.,  0.,  0.,  0.,  0.,  0.],\n",
      "        [ 0.,  0.,  0.,  6.,  0.,  0.,  0.,  0.,  0.,  0.,  0.,  0.,  0.,  0.,\n",
      "          0.,  0.,  0.,  0.,  0.,  6.,  0.,  0.,  0.,  0.,  0.,  0.,  0.],\n",
      "        [ 0.,  0.,  0.,  0.,  0.,  0.,  0.,  0.,  0.,  0.,  0.,  0.,  0.,  0.,\n",
      "          0.,  0.,  0.,  0.,  0.,  0.,  0.,  0.,  0.,  0.,  0.,  0.,  0.]])\n"
     ]
    }
   ],
   "source": [
    "test(modelfile=modelfile, device=device)"
   ]
  }
 ],
 "metadata": {
  "kernelspec": {
   "display_name": "Python 3 (ipykernel)",
   "language": "python",
   "name": "python3"
  },
  "language_info": {
   "codemirror_mode": {
    "name": "ipython",
    "version": 3
   },
   "file_extension": ".py",
   "mimetype": "text/x-python",
   "name": "python",
   "nbconvert_exporter": "python",
   "pygments_lexer": "ipython3",
   "version": "3.12.3"
  }
 },
 "nbformat": 4,
 "nbformat_minor": 5
}
